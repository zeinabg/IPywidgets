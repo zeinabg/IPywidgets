{
 "cells": [
  {
   "cell_type": "markdown",
   "metadata": {
    "tags": []
   },
   "source": [
    "# IPywidgets"
   ]
  },
  {
   "cell_type": "markdown",
   "metadata": {
    "tags": []
   },
   "source": [
    "<br><center><h1 style=\"font-size:2em\"> Sleep Health and Lifestyle</h1></center>\n",
    "<br>\n",
    "Ipywidgets is a dynamic HTML widget library for Jupyter Notebook and Jupyter Lab. In this notebook, we'll explore its versatility and its role in data analysis. Our dataset, <a href=\"https://www.kaggle.com/datasets/uom190346a/sleep-health-and-lifestyle-dataset/\">Sleep health and lifestyle</a> from <a href=\"https://www.kaggle.com\">Kaggle</a>, offers diverse variables such as sleep quality, heart rate, physical activity level, and BMI. We want to build an interactive dashboard with this dataset.\n",
    "\n",
    "<br>Data Source: https://www.kaggle.com/datasets/uom190346a/sleep-health-and-lifestyle-dataset/download?datasetVersionNumber=2\n",
    "<br>"
   ]
  },
  {
   "cell_type": "markdown",
   "metadata": {
    "tags": []
   },
   "source": [
    "<table>\n",
    "<tr>\n",
    "<td><img src=\"https://storage.googleapis.com/gweb-uniblog-publish-prod/images/sleep-01.width-1600.format-webp.webp\" align=\"middle\" style=\"width:550px;height:360px;\"/></td>"
   ]
  },
  {
   "cell_type": "markdown",
   "metadata": {},
   "source": [
    "# Step 1: Exploring the Dataset"
   ]
  },
  {
   "cell_type": "code",
   "execution_count": 17,
   "metadata": {
    "tags": []
   },
   "outputs": [],
   "source": [
    "import pandas as pd\n",
    "import numpy as np\n",
    "import matplotlib.pyplot as plt\n",
    "import ipywidgets as widgets\n",
    "from IPython.display import display\n",
    "from ipywidgets import interact"
   ]
  },
  {
   "cell_type": "code",
   "execution_count": 18,
   "metadata": {
    "tags": []
   },
   "outputs": [
    {
     "data": {
      "text/html": [
       "<div>\n",
       "<style scoped>\n",
       "    .dataframe tbody tr th:only-of-type {\n",
       "        vertical-align: middle;\n",
       "    }\n",
       "\n",
       "    .dataframe tbody tr th {\n",
       "        vertical-align: top;\n",
       "    }\n",
       "\n",
       "    .dataframe thead th {\n",
       "        text-align: right;\n",
       "    }\n",
       "</style>\n",
       "<table border=\"1\" class=\"dataframe\">\n",
       "  <thead>\n",
       "    <tr style=\"text-align: right;\">\n",
       "      <th></th>\n",
       "      <th>Person ID</th>\n",
       "      <th>Gender</th>\n",
       "      <th>Age</th>\n",
       "      <th>Occupation</th>\n",
       "      <th>Sleep Duration</th>\n",
       "      <th>Quality of Sleep</th>\n",
       "      <th>Physical Activity Level</th>\n",
       "      <th>Stress Level</th>\n",
       "      <th>BMI Category</th>\n",
       "      <th>Blood Pressure</th>\n",
       "      <th>Heart Rate</th>\n",
       "      <th>Daily Steps</th>\n",
       "      <th>Sleep Disorder</th>\n",
       "    </tr>\n",
       "  </thead>\n",
       "  <tbody>\n",
       "    <tr>\n",
       "      <th>0</th>\n",
       "      <td>1</td>\n",
       "      <td>Male</td>\n",
       "      <td>27</td>\n",
       "      <td>Software Engineer</td>\n",
       "      <td>6.1</td>\n",
       "      <td>6</td>\n",
       "      <td>42</td>\n",
       "      <td>6</td>\n",
       "      <td>Overweight</td>\n",
       "      <td>126/83</td>\n",
       "      <td>77</td>\n",
       "      <td>4200</td>\n",
       "      <td>NaN</td>\n",
       "    </tr>\n",
       "    <tr>\n",
       "      <th>1</th>\n",
       "      <td>2</td>\n",
       "      <td>Male</td>\n",
       "      <td>28</td>\n",
       "      <td>Doctor</td>\n",
       "      <td>6.2</td>\n",
       "      <td>6</td>\n",
       "      <td>60</td>\n",
       "      <td>8</td>\n",
       "      <td>Normal</td>\n",
       "      <td>125/80</td>\n",
       "      <td>75</td>\n",
       "      <td>10000</td>\n",
       "      <td>NaN</td>\n",
       "    </tr>\n",
       "    <tr>\n",
       "      <th>2</th>\n",
       "      <td>3</td>\n",
       "      <td>Male</td>\n",
       "      <td>28</td>\n",
       "      <td>Doctor</td>\n",
       "      <td>6.2</td>\n",
       "      <td>6</td>\n",
       "      <td>60</td>\n",
       "      <td>8</td>\n",
       "      <td>Normal</td>\n",
       "      <td>125/80</td>\n",
       "      <td>75</td>\n",
       "      <td>10000</td>\n",
       "      <td>NaN</td>\n",
       "    </tr>\n",
       "    <tr>\n",
       "      <th>3</th>\n",
       "      <td>4</td>\n",
       "      <td>Male</td>\n",
       "      <td>28</td>\n",
       "      <td>Sales Representative</td>\n",
       "      <td>5.9</td>\n",
       "      <td>4</td>\n",
       "      <td>30</td>\n",
       "      <td>8</td>\n",
       "      <td>Obese</td>\n",
       "      <td>140/90</td>\n",
       "      <td>85</td>\n",
       "      <td>3000</td>\n",
       "      <td>Sleep Apnea</td>\n",
       "    </tr>\n",
       "    <tr>\n",
       "      <th>4</th>\n",
       "      <td>5</td>\n",
       "      <td>Male</td>\n",
       "      <td>28</td>\n",
       "      <td>Sales Representative</td>\n",
       "      <td>5.9</td>\n",
       "      <td>4</td>\n",
       "      <td>30</td>\n",
       "      <td>8</td>\n",
       "      <td>Obese</td>\n",
       "      <td>140/90</td>\n",
       "      <td>85</td>\n",
       "      <td>3000</td>\n",
       "      <td>Sleep Apnea</td>\n",
       "    </tr>\n",
       "  </tbody>\n",
       "</table>\n",
       "</div>"
      ],
      "text/plain": [
       "   Person ID Gender  Age            Occupation  Sleep Duration  \\\n",
       "0          1   Male   27     Software Engineer             6.1   \n",
       "1          2   Male   28                Doctor             6.2   \n",
       "2          3   Male   28                Doctor             6.2   \n",
       "3          4   Male   28  Sales Representative             5.9   \n",
       "4          5   Male   28  Sales Representative             5.9   \n",
       "\n",
       "   Quality of Sleep  Physical Activity Level  Stress Level BMI Category  \\\n",
       "0                 6                       42             6   Overweight   \n",
       "1                 6                       60             8       Normal   \n",
       "2                 6                       60             8       Normal   \n",
       "3                 4                       30             8        Obese   \n",
       "4                 4                       30             8        Obese   \n",
       "\n",
       "  Blood Pressure  Heart Rate  Daily Steps Sleep Disorder  \n",
       "0         126/83          77         4200            NaN  \n",
       "1         125/80          75        10000            NaN  \n",
       "2         125/80          75        10000            NaN  \n",
       "3         140/90          85         3000    Sleep Apnea  \n",
       "4         140/90          85         3000    Sleep Apnea  "
      ]
     },
     "execution_count": 18,
     "metadata": {},
     "output_type": "execute_result"
    }
   ],
   "source": [
    "#read and store the dataset\n",
    "sleep = pd.read_csv('Sleep_health_and_lifestyle_dataset.csv')\n",
    "sleep.head()"
   ]
  },
  {
   "cell_type": "markdown",
   "metadata": {},
   "source": [
    "Some columns in the dataset require description:\n",
    "- Quality of Sleep (scale: 1-10)\n",
    "- Physical Activity Level (minutes/day): The number of minutes the person engages in physical activity daily.\n",
    "- Stress Level (scale: 1-10)\n",
    "- BMI Category: Underweight, Normal, Overweight\n",
    "- Blood Pressure (systolic/diastolic): indicated as systolic pressure over diastolic pressure.\n",
    "- Heart Rate (bpm): The resting heart rate of the person in beats per minute.\n",
    "- Sleep Disorder: The presence or absence of a sleep disorder in the person (None, Insomnia, Sleep Apnea)."
   ]
  },
  {
   "cell_type": "markdown",
   "metadata": {},
   "source": [
    "Let's see some statistics about the \"sleep\" dataset "
   ]
  },
  {
   "cell_type": "markdown",
   "metadata": {},
   "source": [
    "## 1.1. Know more about the dataset"
   ]
  },
  {
   "cell_type": "markdown",
   "metadata": {},
   "source": [
    "How clean is our dataset?"
   ]
  },
  {
   "cell_type": "code",
   "execution_count": 19,
   "metadata": {
    "tags": []
   },
   "outputs": [
    {
     "data": {
      "text/plain": [
       "Person ID                  0.00\n",
       "Gender                     0.00\n",
       "Age                        0.00\n",
       "Occupation                 0.00\n",
       "Sleep Duration             0.00\n",
       "Quality of Sleep           0.00\n",
       "Physical Activity Level    0.00\n",
       "Stress Level               0.00\n",
       "BMI Category               0.00\n",
       "Blood Pressure             0.00\n",
       "Heart Rate                 0.00\n",
       "Daily Steps                0.00\n",
       "Sleep Disorder             0.59\n",
       "dtype: float64"
      ]
     },
     "execution_count": 19,
     "metadata": {},
     "output_type": "execute_result"
    }
   ],
   "source": [
    "#calculate the mean of Null values to see the percentage of nulls\n",
    "sleep.isna().mean().round(2)"
   ]
  },
  {
   "cell_type": "markdown",
   "metadata": {},
   "source": [
    "Based on dataset the NaN values in Sleep Disorder column are about not having sleep disorders."
   ]
  },
  {
   "cell_type": "code",
   "execution_count": 20,
   "metadata": {},
   "outputs": [],
   "source": [
    "# convert NaN values in sleep disorder to 'NaN' as a string value\n",
    "sleep.loc[sleep['Sleep Disorder'].isna() , 'Sleep Disorder'] = 'None'"
   ]
  },
  {
   "cell_type": "markdown",
   "metadata": {},
   "source": [
    "<br>Let's choose a categorical variable and look further into it"
   ]
  },
  {
   "cell_type": "markdown",
   "metadata": {},
   "source": [
    "## 1.2. Exploring Sample Variable (BMI Distribution)"
   ]
  },
  {
   "cell_type": "code",
   "execution_count": 21,
   "metadata": {
    "tags": []
   },
   "outputs": [
    {
     "data": {
      "text/plain": [
       "array(['Overweight', 'Normal', 'Obese', 'Normal Weight'], dtype=object)"
      ]
     },
     "execution_count": 21,
     "metadata": {},
     "output_type": "execute_result"
    }
   ],
   "source": [
    "# Explore the BMI categories\n",
    "sleep['BMI Category'].unique()"
   ]
  },
  {
   "cell_type": "markdown",
   "metadata": {},
   "source": [
    "This dataset has two categories with the same meaning. We will consolidate them into a single value for a more precise evaluation. "
   ]
  },
  {
   "cell_type": "code",
   "execution_count": 22,
   "metadata": {
    "tags": []
   },
   "outputs": [
    {
     "data": {
      "text/plain": [
       "BMI Category\n",
       "Normal        216\n",
       "Overweight    148\n",
       "Obese          10\n",
       "Name: count, dtype: int64"
      ]
     },
     "execution_count": 22,
     "metadata": {},
     "output_type": "execute_result"
    }
   ],
   "source": [
    "# Consolidate two categories 'Normal' and 'Normal weight'\n",
    "sleep.loc[sleep['BMI Category'] == 'Normal Weight', 'BMI Category'] = 'Normal'\n",
    "\n",
    "#Count the values per BMI category\n",
    "sleep['BMI Category'].value_counts()"
   ]
  },
  {
   "cell_type": "markdown",
   "metadata": {
    "tags": []
   },
   "source": [
    "## 1.3. Let's study this dataset with visualization "
   ]
  },
  {
   "cell_type": "markdown",
   "metadata": {},
   "source": [
    "In this section, we generate various plots involving different combinations of categorical and numeric variables to uncover potential relationships. While we showcase three plots as examples, the possibilities are extensive, allowing for exploration with additional combinations."
   ]
  },
  {
   "cell_type": "code",
   "execution_count": 23,
   "metadata": {
    "tags": []
   },
   "outputs": [
    {
     "data": {
      "image/png": "[encoded data removed]",
      "text/plain": [
       "<Figure size 1500x500 with 3 Axes>"
      ]
     },
     "metadata": {},
     "output_type": "display_data"
    }
   ],
   "source": [
    "# Create a figure with three subplots (1 row, 3 columns)\n",
    "fig, axs = plt.subplots(1, 3, figsize=(15, 5))\n",
    "\n",
    "\n",
    "# Create a pie chart in the first subplot to see the distribution of BMI categories\n",
    "wedges, texts, autotexts = axs[0].pie(sleep['BMI Category'].value_counts(), labels=sleep['BMI Category'].unique(),\n",
    "                                  autopct='%1.1f%%',startangle=90, wedgeprops=dict(width=0.3))\n",
    "\n",
    "# Add a circle at the center to create a donut chart\n",
    "centre_circle = plt.Circle((0, 0), 0.2, color='white', linewidth=0.8)\n",
    "axs[0].add_patch(centre_circle)\n",
    "axs[0].set_title('BMI Distribution')\n",
    "\n",
    "\n",
    "\n",
    "# Extract data for sleep disorder and gender for second bar chart\n",
    "sleep_disorder = sleep.groupby(['Sleep Disorder', 'Gender']).size().unstack()\n",
    "\n",
    "# Plot bar chart with bars next to each other\n",
    "axs[1] = sleep_disorder.plot(kind='bar', ax=axs[1])\n",
    "\n",
    "axs[1].legend(title='Gender', loc='upper right')\n",
    "axs[1].set_ylabel('Number of people with sleep disorders')\n",
    "axs[1].set_xlabel('Sleep disorder type')\n",
    "axs[1].set_title('Sleep Disorders')\n",
    "\n",
    "\n",
    "# Plot a histogram in the third subplot to indicate the distribution of sleep duration with 6 bins\n",
    "n, bins, patches = axs[2].hist(sleep['Sleep Duration'], bins=6, edgecolor='black', alpha=0.7)\n",
    "\n",
    "\n",
    "# Display values on each bar\n",
    "for bin, patch in zip(bins, patches):\n",
    "    height = patch.get_height()\n",
    "    if height > 0:  # Exclude empty bins\n",
    "        axs[2].text(bin + (bins[1] - bins[0]) / 2, height + 1, f'{int(height)}', ha='center', va='bottom')\n",
    "\n",
    "\n",
    "axs[2].set_title('Sleep Duration')\n",
    "axs[2].set_xlabel('Sleep Hours')\n",
    "axs[2].set_ylabel('Number of people')\n",
    "\n",
    "# Adjust layout to prevent overlap\n",
    "plt.tight_layout()\n",
    "\n",
    "# Show the combined plots\n",
    "plt.show()\n"
   ]
  },
  {
   "cell_type": "markdown",
   "metadata": {},
   "source": [
    "#### BMI Donut Chart\n",
    "- The BMI Distribution Donut illustrates the distribution of participants across three BMI categories.\n",
    "- According to the chart, over 60 percent of individuals in this study have a BMI over 25, while the remaining participants fall within the normal BMI range.\n",
    "   \n",
    "#### Sleep Disorder Bar chart\n",
    "- The sleep disorder chart indicates a higher prevalence of Sleep Apnea among female participants in this study.\n",
    "\n",
    "#### Sleep Hours Histogram\n",
    "- The sleep hours histogram provides insight into the distribution of people based on their sleep duration.\n",
    "- For instance, around 22 percent of participants sleep between 7.5 to 8 hours."
   ]
  },
  {
   "cell_type": "markdown",
   "metadata": {},
   "source": [
    "# Step 2: Basic widgets with IPywidgets"
   ]
  },
  {
   "cell_type": "markdown",
   "metadata": {},
   "source": [
    "Using IPywidgets empowers the creation of interactive widgets, significantly enhancing the data analysis experience. This tool proves invaluable for researchers, providing a dynamic platform to gain deeper insights into their results."
   ]
  },
  {
   "cell_type": "markdown",
   "metadata": {},
   "source": [
    "<b> Lets see how we can build simple interactive widgets "
   ]
  },
  {
   "cell_type": "markdown",
   "metadata": {},
   "source": [
    "## 2.1. Slider"
   ]
  },
  {
   "cell_type": "code",
   "execution_count": 24,
   "metadata": {
    "tags": []
   },
   "outputs": [
    {
     "data": {
      "application/vnd.jupyter.widget-view+json": {
       "model_id": "ed54c6e3f4074b24863b6694d33df63d",
       "version_major": 2,
       "version_minor": 0
      },
      "text/plain": [
       "FloatSlider(value=42.18449197860963, description='Age:', max=59.0, min=27.0, step=1.0, style=SliderStyle(descr…"
      ]
     },
     "metadata": {},
     "output_type": "display_data"
    }
   ],
   "source": [
    "# Create a slider to dynamically adjust values within a specified range\n",
    "# Use IntSlider for integers and FloatSlider for floating-point numbers\n",
    "# The 'value' parameter sets the default value upon code execution\n",
    "# The 'description_width': 'initial' parameter ensures that the words before the slider are fully displayed.\n",
    "\n",
    "\n",
    "slider = widgets.FloatSlider(value=sleep['Age'].mean(), min=sleep['Age'].min(), \n",
    "                             max=sleep['Age'].max(), step=1, description='Age:',\n",
    "                             style={'description_width': 'initial', 'description_font_size': '16px'})\n",
    "display(slider)"
   ]
  },
  {
   "cell_type": "markdown",
   "metadata": {
    "tags": []
   },
   "source": [
    "<br>\n",
    "The slider allows you to smoothly navigate between the minimum and maximum age values, facilitating interactive exploration. <br>\n",
    "This slider can be utilized for dynamic adjustments in plots and charts.\n",
    "<br>"
   ]
  },
  {
   "cell_type": "markdown",
   "metadata": {},
   "source": [
    "## 2.2. Dropdown menu"
   ]
  },
  {
   "cell_type": "code",
   "execution_count": 25,
   "metadata": {
    "tags": []
   },
   "outputs": [
    {
     "data": {
      "application/vnd.jupyter.widget-view+json": {
       "model_id": "3350b493d72c452fad77238be1d161e1",
       "version_major": 2,
       "version_minor": 0
      },
      "text/plain": [
       "Dropdown(description='Select a Column:', options=('Person ID', 'Gender', 'Age', 'Occupation', 'Sleep Duration'…"
      ]
     },
     "metadata": {},
     "output_type": "display_data"
    }
   ],
   "source": [
    "# Create a dropdown widget for selecting the variable\n",
    "column_selector = widgets.Dropdown(\n",
    "    options=sleep.columns,\n",
    "    description='Select a Column:',\n",
    "    disabled=False,\n",
    "    style={'description_width': 'initial', 'description_font_size': '16px'})\n",
    "\n",
    "display(column_selector)"
   ]
  },
  {
   "cell_type": "markdown",
   "metadata": {},
   "source": [
    "## 2.3. Check Box"
   ]
  },
  {
   "cell_type": "code",
   "execution_count": 26,
   "metadata": {
    "tags": []
   },
   "outputs": [
    {
     "data": {
      "application/vnd.jupyter.widget-view+json": {
       "model_id": "ba554ac8ba884707ac65c52b0abc84d5",
       "version_major": 2,
       "version_minor": 0
      },
      "text/plain": [
       "Checkbox(value=False, description='Check me')"
      ]
     },
     "metadata": {},
     "output_type": "display_data"
    }
   ],
   "source": [
    "checkbox = widgets.Checkbox(\n",
    "    value=False,  # Initial state of the checkbox\n",
    "    description='Check me',  \n",
    "    disabled=False \n",
    ")\n",
    "\n",
    "# Function to handle checkbox changes\n",
    "def handle_checkbox_change(change):\n",
    "    if change['new']:\n",
    "        print(\"Checkbox is checked!\")\n",
    "    else:\n",
    "        print(\"Checkbox is unchecked.\")\n",
    "\n",
    "# Attach the function to the checkbox's value attribute\n",
    "checkbox.observe(handle_checkbox_change, names='value')\n",
    "\n",
    "display(checkbox)"
   ]
  },
  {
   "cell_type": "markdown",
   "metadata": {},
   "source": [
    "## 2.4. Interact Function"
   ]
  },
  {
   "cell_type": "markdown",
   "metadata": {},
   "source": [
    "Interact is a function in the ipywidgets library that provides a simple way to create interactive widgets in Jupyter notebooks. It automatically generates UI controls (such as sliders, dropdowns, text boxes) based on the parameters of a function, allowing users to interactively explore and visualize data.\n",
    "\n",
    "Here's a basic example of how interact works:"
   ]
  },
  {
   "cell_type": "code",
   "execution_count": 27,
   "metadata": {},
   "outputs": [
    {
     "data": {
      "application/vnd.jupyter.widget-view+json": {
       "model_id": "25f56c7bd22e4f6d8af25abf4a631c3d",
       "version_major": 2,
       "version_minor": 0
      },
      "text/plain": [
       "interactive(children=(IntSlider(value=5, description='a', max=10), IntSlider(value=5, description='b', max=10)…"
      ]
     },
     "metadata": {},
     "output_type": "display_data"
    },
    {
     "data": {
      "text/plain": [
       "<function __main__.multiply(a, b)>"
      ]
     },
     "execution_count": 27,
     "metadata": {},
     "output_type": "execute_result"
    }
   ],
   "source": [
    "# Example function to multiply two numbers\n",
    "def multiply(a, b):\n",
    "    return a * b\n",
    "\n",
    "# Use interact to create sliders for the function parameters\n",
    "interact(multiply, a=(0, 10), b=(0, 10))\n"
   ]
  },
  {
   "cell_type": "markdown",
   "metadata": {},
   "source": [
    "# Step 3: Sleep Data Analysis with IPywidgets"
   ]
  },
  {
   "cell_type": "markdown",
   "metadata": {},
   "source": [
    "## 3.1 Donut Chart"
   ]
  },
  {
   "cell_type": "code",
   "execution_count": 28,
   "metadata": {
    "tags": []
   },
   "outputs": [
    {
     "data": {
      "application/vnd.jupyter.widget-view+json": {
       "model_id": "e0c2300830be45839a833a683aa26325",
       "version_major": 2,
       "version_minor": 0
      },
      "text/plain": [
       "interactive(children=(Dropdown(description='variable', options=('BMI Category', 'Gender', 'Occupation', 'Quali…"
      ]
     },
     "metadata": {},
     "output_type": "display_data"
    }
   ],
   "source": [
    "categ_var = ['BMI Category','Gender', 'Occupation', 'Quality of Sleep', 'Stress Level',\n",
    "             'Sleep Disorder']\n",
    "\n",
    "# Function to generate donut chart based on selected categorical variable\n",
    "def donut_chart(variable):\n",
    "    threshold = .05\n",
    "    series = sleep[variable]\n",
    "    value_counts = series.value_counts()\n",
    "    value_pcts = series.value_counts(normalize=True)\n",
    "    total = value_counts.sum()\n",
    "    labels = [label if pct > threshold else '' for label, pct in value_pcts.items()]\n",
    "    autopct = lambda pct: '%.0f%%' % pct if pct > threshold * 100 else ''\n",
    "    \n",
    "    # Plot donut chart\n",
    "    plt.pie(\n",
    "        value_counts,\n",
    "        labels=labels,\n",
    "        autopct=autopct,\n",
    "        startangle=90,\n",
    "        wedgeprops=dict(width=0.4),\n",
    "        pctdistance=0.85,\n",
    "    )\n",
    "    centre_circle = plt.Circle((0, 0), 0.7, color='white', linewidth=0.8)\n",
    "    plt.gca().add_artist(centre_circle)\n",
    "\n",
    "# Interact function to update the chart based on dropdown selection\n",
    "widgets.interact(donut_chart, variable=categ_var);"
   ]
  },
  {
   "cell_type": "markdown",
   "metadata": {},
   "source": [
    "## 3.2. Bar Chart and Dropdown Menu"
   ]
  },
  {
   "cell_type": "code",
   "execution_count": 29,
   "metadata": {},
   "outputs": [
    {
     "data": {
      "application/vnd.jupyter.widget-view+json": {
       "model_id": "2fa9b6ddc29d427dbf320b0ff87cdde5",
       "version_major": 2,
       "version_minor": 0
      },
      "text/plain": [
       "interactive(children=(Dropdown(description='Select Variable:', options=('Gender', 'Quality of Sleep', 'BMI Cat…"
      ]
     },
     "metadata": {},
     "output_type": "display_data"
    },
    {
     "data": {
      "text/plain": [
       "<function __main__.generate_bar_chart(selected_variable)>"
      ]
     },
     "execution_count": 29,
     "metadata": {},
     "output_type": "execute_result"
    }
   ],
   "source": [
    "# Function to generate bar chart based on selected variable\n",
    "def generate_bar_chart(selected_variable):\n",
    "    plt.figure(figsize=(20, 10))\n",
    "\n",
    "    # Extract data for the selected variable\n",
    "    selected_data = sleep.groupby(['Sleep Disorder', selected_variable]).size().unstack()\n",
    "\n",
    "    # Plot bar chart with bars next to each other\n",
    "    selected_data.plot(kind='bar', stacked=False)\n",
    "    \n",
    "    plt.title(f'Distribution of Sleep Disorder Based on {selected_variable}')\n",
    "    plt.xlabel('Sleep Disorder Type')\n",
    "    plt.ylabel('Count')\n",
    "    plt.legend(title=selected_variable)\n",
    "\n",
    "    plt.show()\n",
    "\n",
    "# Dropdown widget for selecting a variable\n",
    "dropdown_variable = widgets.Dropdown(\n",
    "    options=['Gender', 'Quality of Sleep', 'BMI Category'],\n",
    "    value='Gender',\n",
    "    description='Select Variable:',\n",
    "    disabled=False,\n",
    ")\n",
    "\n",
    "# Interact function to update the chart based on dropdown selection\n",
    "interact(generate_bar_chart, selected_variable=dropdown_variable)\n"
   ]
  },
  {
   "cell_type": "markdown",
   "metadata": {},
   "source": [
    "## 3.3. Histogram, Slider and Dropdown Menu"
   ]
  },
  {
   "cell_type": "code",
   "execution_count": 30,
   "metadata": {},
   "outputs": [
    {
     "data": {
      "application/vnd.jupyter.widget-view+json": {
       "model_id": "60281584c23b4e31ab333a87aeb43dc7",
       "version_major": 2,
       "version_minor": 0
      },
      "text/plain": [
       "interactive(children=(Dropdown(description='variable', options=('Sleep Duration', 'Age', 'Physical Activity Le…"
      ]
     },
     "metadata": {},
     "output_type": "display_data"
    }
   ],
   "source": [
    "continuous_var = [ 'Sleep Duration', 'Age','Physical Activity Level', 'Heart Rate', 'Daily Steps']\n",
    "\n",
    "def histogram(variable, bin_count):\n",
    "    series = sleep[variable]\n",
    "    plt.hist(series, bins=bin_count, edgecolor='black', alpha=0.7)\n",
    "\n",
    "    plt.title(variable)\n",
    "    plt.xlabel('')\n",
    "    plt.ylabel('Number of people')\n",
    "\n",
    "widgets.interact(histogram, variable=continuous_var, bin_count=(3, 10));"
   ]
  },
  {
   "cell_type": "markdown",
   "metadata": {},
   "source": [
    "## 3.4. Correlation Matrix and Check box"
   ]
  },
  {
   "cell_type": "code",
   "execution_count": 31,
   "metadata": {},
   "outputs": [
    {
     "data": {
      "application/vnd.jupyter.widget-view+json": {
       "model_id": "64a9f8e03de0420fbebb19b94436b893",
       "version_major": 2,
       "version_minor": 0
      },
      "text/plain": [
       "interactive(children=(Checkbox(value=True, description='Age'), Checkbox(value=True, description='Sleep Duratio…"
      ]
     },
     "metadata": {},
     "output_type": "display_data"
    }
   ],
   "source": [
    "quant_var = ['Age', 'Sleep Duration','Quality of Sleep', 'Physical Activity Level',\n",
    "             'Stress Level', 'Heart Rate', 'Daily Steps']\n",
    "def corr_matrix(**kwargs):\n",
    "  variables = [key for key, value in kwargs.items() if value]\n",
    "  return sleep[variables].corr()\n",
    "\n",
    "widgets.interact(\n",
    "    corr_matrix,\n",
    "    **dict(zip(quant_var, [True] * len(quant_var))),\n",
    ");"
   ]
  },
  {
   "cell_type": "markdown",
   "metadata": {},
   "source": [
    "- There exists a strong positive correlation (0.88) between the __quality of sleep__ and __sleep duration__, suggesting that as one metric improves, the other tends to follow suit.\n",
    "\n",
    "- __Stress level__ exhibits a notable negative correlation with both __sleep duration__ and __sleep quality__, indicating that higher __stress level__ is associated with diminished sleep metrics (correlation coefficients: -0.81 and -0.90, respectively).\n",
    "\n",
    "- Conversely, __heart rate__ demonstrates a positive correlation with __stress level__, implying that elevated stress tends to coincide with higher heart rates.\n",
    "\n",
    "- __Daily steps__ show a significant positive correlation (0.77) solely with the __physical activity level__, suggesting a strong association between these two variables while exhibiting minimal correlation with other factors."
   ]
  },
  {
   "cell_type": "markdown",
   "metadata": {
    "tags": []
   },
   "source": [
    "![IPywidgets Library](https://lavca.org/app/uploads/2016/12/Charts-Graphs-e1481821674338.jpg)"
   ]
  },
  {
   "cell_type": "markdown",
   "metadata": {},
   "source": [
    "- It is important to investigate various subsets of variables. Slicing and dicing data is time consuming due to its multivariate nature. Since such exploratory analysis requires writing many lines of code, critical insights within the data might be overlooked because of complexity of exploration.\n",
    "\n",
    "- Ipywidgets is an intuitive dashboarding tool that greatly simplifies the exploration of diverse subsets of variables. Users can effortlessly slice and dice their data with various dimensions by directly interacting with the visualizations in the tool."
   ]
  },
  {
   "cell_type": "markdown",
   "metadata": {},
   "source": [
    "# Homework"
   ]
  },
  {
   "cell_type": "markdown",
   "metadata": {},
   "source": [
    "*Complete the code to see your selected part of dataset*"
   ]
  },
  {
   "cell_type": "code",
   "execution_count": 32,
   "metadata": {
    "collapsed": true,
    "jupyter": {
     "outputs_hidden": true
    },
    "tags": []
   },
   "outputs": [
    {
     "ename": "SyntaxError",
     "evalue": "invalid syntax (3455846638.py, line 15)",
     "output_type": "error",
     "traceback": [
      "\u001b[0;36m  Cell \u001b[0;32mIn[32], line 15\u001b[0;36m\u001b[0m\n\u001b[0;31m    interact(update_dataset, numeric_max=(..., ....), selected_value=['All'] + list(data['your Variable'].unique()))\u001b[0m\n\u001b[0m                                                   ^\u001b[0m\n\u001b[0;31mSyntaxError\u001b[0m\u001b[0;31m:\u001b[0m invalid syntax\n"
     ]
    }
   ],
   "source": [
    "# 1- choose any categorical variable in the 'sleep' dataset in put it in 'your Variable'\n",
    "## 2 - chosse any numerical variable and put it in the 'numeric'\n",
    "### 3 - you need to find the min and max of your numerical variable and complete the interact function\n",
    "\n",
    "# Function to update the dataset based on widget values\n",
    "def update_dataset(numeric_max, selected_value):\n",
    "    filtered_data = sleep[(sleep['numeric'] <= numeric_max)]\n",
    "    \n",
    "    if selected_value != 'All':\n",
    "        filtered_data = filtered_data[filtered_data['your Variable'] == selected_value]\n",
    "    \n",
    "    display(filtered_data)\n",
    "\n",
    "# Interact function to dynamically update the dataset\n",
    "interact(update_dataset, numeric_max=(..., ....), selected_value=['All'] + list(sleep['your Variable'].unique()))\n"
   ]
  },
  {
   "cell_type": "markdown",
   "metadata": {},
   "source": [
    "### Answer"
   ]
  },
  {
   "cell_type": "code",
   "execution_count": 43,
   "metadata": {
    "tags": []
   },
   "outputs": [
    {
     "data": {
      "application/vnd.jupyter.widget-view+json": {
       "model_id": "e0d67f5b78d640cb835430bf89ca524f",
       "version_major": 2,
       "version_minor": 0
      },
      "text/plain": [
       "interactive(children=(IntSlider(value=43, description='age', max=59, min=27), Dropdown(description='sleep_qual…"
      ]
     },
     "metadata": {},
     "output_type": "display_data"
    },
    {
     "data": {
      "text/plain": [
       "<function __main__.update_dataset(age, sleep_quality)>"
      ]
     },
     "execution_count": 43,
     "metadata": {},
     "output_type": "execute_result"
    }
   ],
   "source": [
    "# any selection of the following categorical and numeric variables will work\n",
    "numeric_var = ['Age', 'Physical Activity Level', 'Heart Rate', 'Daily Steps']\n",
    "categorical_var = ['Gender', 'Quality of Sleep', 'Stress Level', 'BMI Category', 'Sleep Disorder']\n",
    "\n",
    "#  age as numeric and quality of sleep as categorical\n",
    "numeric_max = sleep.Age.max()\n",
    "numeric_min = sleep.Age.min()\n",
    "\n",
    "# Function to update the dataset based on widget values, \n",
    "#replace age with numeric_max and sleep_quality with selected_value\n",
    "\n",
    "def update_dataset(age, sleep_quality):\n",
    "    filtered_data = sleep[(sleep['Age'] <= age)]\n",
    "    \n",
    "    if sleep_quality != 'All':\n",
    "        filtered_data = filtered_data[filtered_data['Quality of Sleep'] == sleep_quality]\n",
    "    \n",
    "    display(filtered_data)\n",
    "\n",
    "# Interact function to dynamically update the dataset\n",
    "interact(update_dataset, age=(numeric_min, numeric_max), sleep_quality=['All'] + list(sleep['Quality of Sleep'].unique()))\n",
    "\n"
   ]
  },
  {
   "cell_type": "code",
   "execution_count": 35,
   "metadata": {
    "tags": []
   },
   "outputs": [
    {
     "data": {
      "text/html": [
       "<div>\n",
       "<style scoped>\n",
       "    .dataframe tbody tr th:only-of-type {\n",
       "        vertical-align: middle;\n",
       "    }\n",
       "\n",
       "    .dataframe tbody tr th {\n",
       "        vertical-align: top;\n",
       "    }\n",
       "\n",
       "    .dataframe thead th {\n",
       "        text-align: right;\n",
       "    }\n",
       "</style>\n",
       "<table border=\"1\" class=\"dataframe\">\n",
       "  <thead>\n",
       "    <tr style=\"text-align: right;\">\n",
       "      <th></th>\n",
       "      <th>Person ID</th>\n",
       "      <th>Gender</th>\n",
       "      <th>Age</th>\n",
       "      <th>Occupation</th>\n",
       "      <th>Sleep Duration</th>\n",
       "      <th>Quality of Sleep</th>\n",
       "      <th>Physical Activity Level</th>\n",
       "      <th>Stress Level</th>\n",
       "      <th>BMI Category</th>\n",
       "      <th>Blood Pressure</th>\n",
       "      <th>Heart Rate</th>\n",
       "      <th>Daily Steps</th>\n",
       "      <th>Sleep Disorder</th>\n",
       "    </tr>\n",
       "  </thead>\n",
       "  <tbody>\n",
       "    <tr>\n",
       "      <th>0</th>\n",
       "      <td>1</td>\n",
       "      <td>Male</td>\n",
       "      <td>27</td>\n",
       "      <td>Software Engineer</td>\n",
       "      <td>6.1</td>\n",
       "      <td>6</td>\n",
       "      <td>42</td>\n",
       "      <td>6</td>\n",
       "      <td>Overweight</td>\n",
       "      <td>126/83</td>\n",
       "      <td>77</td>\n",
       "      <td>4200</td>\n",
       "      <td>None</td>\n",
       "    </tr>\n",
       "    <tr>\n",
       "      <th>1</th>\n",
       "      <td>2</td>\n",
       "      <td>Male</td>\n",
       "      <td>28</td>\n",
       "      <td>Doctor</td>\n",
       "      <td>6.2</td>\n",
       "      <td>6</td>\n",
       "      <td>60</td>\n",
       "      <td>8</td>\n",
       "      <td>Normal</td>\n",
       "      <td>125/80</td>\n",
       "      <td>75</td>\n",
       "      <td>10000</td>\n",
       "      <td>None</td>\n",
       "    </tr>\n",
       "    <tr>\n",
       "      <th>2</th>\n",
       "      <td>3</td>\n",
       "      <td>Male</td>\n",
       "      <td>28</td>\n",
       "      <td>Doctor</td>\n",
       "      <td>6.2</td>\n",
       "      <td>6</td>\n",
       "      <td>60</td>\n",
       "      <td>8</td>\n",
       "      <td>Normal</td>\n",
       "      <td>125/80</td>\n",
       "      <td>75</td>\n",
       "      <td>10000</td>\n",
       "      <td>None</td>\n",
       "    </tr>\n",
       "    <tr>\n",
       "      <th>3</th>\n",
       "      <td>4</td>\n",
       "      <td>Male</td>\n",
       "      <td>28</td>\n",
       "      <td>Sales Representative</td>\n",
       "      <td>5.9</td>\n",
       "      <td>4</td>\n",
       "      <td>30</td>\n",
       "      <td>8</td>\n",
       "      <td>Obese</td>\n",
       "      <td>140/90</td>\n",
       "      <td>85</td>\n",
       "      <td>3000</td>\n",
       "      <td>Sleep Apnea</td>\n",
       "    </tr>\n",
       "    <tr>\n",
       "      <th>4</th>\n",
       "      <td>5</td>\n",
       "      <td>Male</td>\n",
       "      <td>28</td>\n",
       "      <td>Sales Representative</td>\n",
       "      <td>5.9</td>\n",
       "      <td>4</td>\n",
       "      <td>30</td>\n",
       "      <td>8</td>\n",
       "      <td>Obese</td>\n",
       "      <td>140/90</td>\n",
       "      <td>85</td>\n",
       "      <td>3000</td>\n",
       "      <td>Sleep Apnea</td>\n",
       "    </tr>\n",
       "    <tr>\n",
       "      <th>...</th>\n",
       "      <td>...</td>\n",
       "      <td>...</td>\n",
       "      <td>...</td>\n",
       "      <td>...</td>\n",
       "      <td>...</td>\n",
       "      <td>...</td>\n",
       "      <td>...</td>\n",
       "      <td>...</td>\n",
       "      <td>...</td>\n",
       "      <td>...</td>\n",
       "      <td>...</td>\n",
       "      <td>...</td>\n",
       "      <td>...</td>\n",
       "    </tr>\n",
       "    <tr>\n",
       "      <th>369</th>\n",
       "      <td>370</td>\n",
       "      <td>Female</td>\n",
       "      <td>59</td>\n",
       "      <td>Nurse</td>\n",
       "      <td>8.1</td>\n",
       "      <td>9</td>\n",
       "      <td>75</td>\n",
       "      <td>3</td>\n",
       "      <td>Overweight</td>\n",
       "      <td>140/95</td>\n",
       "      <td>68</td>\n",
       "      <td>7000</td>\n",
       "      <td>Sleep Apnea</td>\n",
       "    </tr>\n",
       "    <tr>\n",
       "      <th>370</th>\n",
       "      <td>371</td>\n",
       "      <td>Female</td>\n",
       "      <td>59</td>\n",
       "      <td>Nurse</td>\n",
       "      <td>8.0</td>\n",
       "      <td>9</td>\n",
       "      <td>75</td>\n",
       "      <td>3</td>\n",
       "      <td>Overweight</td>\n",
       "      <td>140/95</td>\n",
       "      <td>68</td>\n",
       "      <td>7000</td>\n",
       "      <td>Sleep Apnea</td>\n",
       "    </tr>\n",
       "    <tr>\n",
       "      <th>371</th>\n",
       "      <td>372</td>\n",
       "      <td>Female</td>\n",
       "      <td>59</td>\n",
       "      <td>Nurse</td>\n",
       "      <td>8.1</td>\n",
       "      <td>9</td>\n",
       "      <td>75</td>\n",
       "      <td>3</td>\n",
       "      <td>Overweight</td>\n",
       "      <td>140/95</td>\n",
       "      <td>68</td>\n",
       "      <td>7000</td>\n",
       "      <td>Sleep Apnea</td>\n",
       "    </tr>\n",
       "    <tr>\n",
       "      <th>372</th>\n",
       "      <td>373</td>\n",
       "      <td>Female</td>\n",
       "      <td>59</td>\n",
       "      <td>Nurse</td>\n",
       "      <td>8.1</td>\n",
       "      <td>9</td>\n",
       "      <td>75</td>\n",
       "      <td>3</td>\n",
       "      <td>Overweight</td>\n",
       "      <td>140/95</td>\n",
       "      <td>68</td>\n",
       "      <td>7000</td>\n",
       "      <td>Sleep Apnea</td>\n",
       "    </tr>\n",
       "    <tr>\n",
       "      <th>373</th>\n",
       "      <td>374</td>\n",
       "      <td>Female</td>\n",
       "      <td>59</td>\n",
       "      <td>Nurse</td>\n",
       "      <td>8.1</td>\n",
       "      <td>9</td>\n",
       "      <td>75</td>\n",
       "      <td>3</td>\n",
       "      <td>Overweight</td>\n",
       "      <td>140/95</td>\n",
       "      <td>68</td>\n",
       "      <td>7000</td>\n",
       "      <td>Sleep Apnea</td>\n",
       "    </tr>\n",
       "  </tbody>\n",
       "</table>\n",
       "<p>374 rows × 13 columns</p>\n",
       "</div>"
      ],
      "text/plain": [
       "     Person ID  Gender  Age            Occupation  Sleep Duration  \\\n",
       "0            1    Male   27     Software Engineer             6.1   \n",
       "1            2    Male   28                Doctor             6.2   \n",
       "2            3    Male   28                Doctor             6.2   \n",
       "3            4    Male   28  Sales Representative             5.9   \n",
       "4            5    Male   28  Sales Representative             5.9   \n",
       "..         ...     ...  ...                   ...             ...   \n",
       "369        370  Female   59                 Nurse             8.1   \n",
       "370        371  Female   59                 Nurse             8.0   \n",
       "371        372  Female   59                 Nurse             8.1   \n",
       "372        373  Female   59                 Nurse             8.1   \n",
       "373        374  Female   59                 Nurse             8.1   \n",
       "\n",
       "     Quality of Sleep  Physical Activity Level  Stress Level BMI Category  \\\n",
       "0                   6                       42             6   Overweight   \n",
       "1                   6                       60             8       Normal   \n",
       "2                   6                       60             8       Normal   \n",
       "3                   4                       30             8        Obese   \n",
       "4                   4                       30             8        Obese   \n",
       "..                ...                      ...           ...          ...   \n",
       "369                 9                       75             3   Overweight   \n",
       "370                 9                       75             3   Overweight   \n",
       "371                 9                       75             3   Overweight   \n",
       "372                 9                       75             3   Overweight   \n",
       "373                 9                       75             3   Overweight   \n",
       "\n",
       "    Blood Pressure  Heart Rate  Daily Steps Sleep Disorder  \n",
       "0           126/83          77         4200           None  \n",
       "1           125/80          75        10000           None  \n",
       "2           125/80          75        10000           None  \n",
       "3           140/90          85         3000    Sleep Apnea  \n",
       "4           140/90          85         3000    Sleep Apnea  \n",
       "..             ...         ...          ...            ...  \n",
       "369         140/95          68         7000    Sleep Apnea  \n",
       "370         140/95          68         7000    Sleep Apnea  \n",
       "371         140/95          68         7000    Sleep Apnea  \n",
       "372         140/95          68         7000    Sleep Apnea  \n",
       "373         140/95          68         7000    Sleep Apnea  \n",
       "\n",
       "[374 rows x 13 columns]"
      ]
     },
     "execution_count": 35,
     "metadata": {},
     "output_type": "execute_result"
    }
   ],
   "source": [
    "sleep"
   ]
  },
  {
   "cell_type": "markdown",
   "metadata": {},
   "source": [
    "## Dig deeper \n",
    "\n",
    "### IPywidgets Documentation"
   ]
  },
  {
   "cell_type": "markdown",
   "metadata": {},
   "source": [
    "https://ipywidgets.readthedocs.io/en/stable/"
   ]
  }
 ],
 "metadata": {
  "anaconda-cloud": {},
  "kernelspec": {
   "display_name": "Python 3 (ipykernel)",
   "language": "python",
   "name": "python3"
  },
  "language_info": {
   "codemirror_mode": {
    "name": "ipython",
    "version": 3
   },
   "file_extension": ".py",
   "mimetype": "text/x-python",
   "name": "python",
   "nbconvert_exporter": "python",
   "pygments_lexer": "ipython3",
   "version": "3.11.5"
  }
 },
 "nbformat": 4,
 "nbformat_minor": 4
}
